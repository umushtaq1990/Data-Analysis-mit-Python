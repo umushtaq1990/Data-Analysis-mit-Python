{
 "cells": [
  {
   "cell_type": "markdown",
   "metadata": {},
   "source": [
    "# Python Basics with Jupyter\n",
    "  \n",
    "  * Run code in cells\n",
    "  * Add,cut,copy,paste cells\n",
    "  * Documentation with markdown"
   ]
  },
  {
   "cell_type": "markdown",
   "metadata": {},
   "source": [
    "# My 1st heading\n",
    "## My 2nd heading\n",
    "### My 3rd heading\n",
    "\n",
    "Hello  \n",
    "\n",
    "* subheading 1  \n",
    "* subheading 2  \n",
    "* subheading 3  \n",
    "**It is Bold**  \n",
    "*It is italic*  \n",
    "**It is bold _and italic_**  \n",
    "http://hello.com\n",
    "  \n",
    "Markdown cells have support of html and other languages like latex"
   ]
  },
  {
   "cell_type": "code",
   "execution_count": null,
   "metadata": {},
   "outputs": [],
   "source": [
    "print('Hello World')       #Note: no semicolons"
   ]
  },
  {
   "cell_type": "markdown",
   "metadata": {},
   "source": [
    "# Python Basics with Jupyter\n",
    "  \n",
    "  * use as calculator\n",
    "  * underscore\n",
    "  \n",
    "  .  \n",
    "  .  \n",
    "  .  \n",
    "  .\n",
    "  \n",
    "  12000$/year"
   ]
  },
  {
   "cell_type": "code",
   "execution_count": null,
   "metadata": {},
   "outputs": [],
   "source": [
    "12000/12                     #use as calculator \n",
    "\n",
    "                              # (per month)"
   ]
  },
  {
   "cell_type": "code",
   "execution_count": null,
   "metadata": {
    "scrolled": true
   },
   "outputs": [],
   "source": [
    "_/31                  #undersore is the last output "
   ]
  },
  {
   "cell_type": "code",
   "execution_count": null,
   "metadata": {},
   "outputs": [],
   "source": [
    "12000/12                     #use as calculator\n",
    "\n",
    "                            #per month"
   ]
  },
  {
   "cell_type": "code",
   "execution_count": null,
   "metadata": {},
   "outputs": [],
   "source": [
    "_/28                 #(31 days month) \n",
    "\n",
    "                    #undersore is the last output"
   ]
  },
  {
   "cell_type": "markdown",
   "metadata": {},
   "source": [
    ".  \n",
    ".  \n",
    ".  \n",
    ".  \n",
    "\n",
    "## Naming of Variables\n",
    ".  \n",
    ".  \n",
    ".  \n",
    "."
   ]
  },
  {
   "cell_type": "code",
   "execution_count": null,
   "metadata": {},
   "outputs": [],
   "source": [
    "my_variable='Hello'         #variable Names\n",
    "my_variable\n",
    "\n",
    "#my variable =5       #spacing not allowed\n",
    "#1my_variable=5       #should not start with number\n",
    "#True = 5            #reserved key words should not be used"
   ]
  },
  {
   "cell_type": "markdown",
   "metadata": {},
   "source": [
    ".  \n",
    ".  \n",
    ".  \n",
    "\n",
    "\n",
    "## Everything in python is object (hold data and methods could be applied)\n",
    ".  \n",
    ".  \n",
    "."
   ]
  },
  {
   "cell_type": "markdown",
   "metadata": {},
   "source": [
    "## Comon Types\n",
    "* Numeric: integer, float, complex\n",
    "* Text: string\n",
    "* Bolean: True,False\n",
    "* Sequence: list, tuple, range\n"
   ]
  },
  {
   "cell_type": "markdown",
   "metadata": {},
   "source": [
    ".  \n",
    ".  \n",
    ".  \n",
    ".  \n",
    "\n",
    "## How it works without types?\n",
    ".  \n",
    ".  \n",
    ".  \n",
    "."
   ]
  },
  {
   "cell_type": "code",
   "execution_count": 5,
   "metadata": {},
   "outputs": [
    {
     "data": {
      "text/plain": [
       "float"
      ]
     },
     "execution_count": 5,
     "metadata": {},
     "output_type": "execute_result"
    }
   ],
   "source": [
    "a=5       #python creates dynamically created PyIntObject(on heap managed by operator) containg value 5 and \n",
    "          #a (on stack managed by program) is local variable pointing to it\n",
    "    \n",
    "a=2.5     #python creats dynamically PyFloatObject\n",
    "\n",
    "a\n",
    "type(a)"
   ]
  },
  {
   "cell_type": "markdown",
   "metadata": {},
   "source": [
    ".  \n",
    ".  \n",
    ".  \n",
    ".\n",
    "\n",
    "## How to check if same types?\n",
    ".  \n",
    ".  \n",
    ".  \n",
    "."
   ]
  },
  {
   "cell_type": "code",
   "execution_count": 6,
   "metadata": {},
   "outputs": [
    {
     "data": {
      "text/plain": [
       "False"
      ]
     },
     "execution_count": 6,
     "metadata": {},
     "output_type": "execute_result"
    }
   ],
   "source": [
    "a=2\n",
    "b=2.0\n",
    "a is b    \n",
    "\n",
    "#'is' checks if refrence point of two local variables\n",
    "#a and b is same to dynamically created object "
   ]
  },
  {
   "cell_type": "code",
   "execution_count": 7,
   "metadata": {},
   "outputs": [
    {
     "data": {
      "text/plain": [
       "int"
      ]
     },
     "execution_count": 7,
     "metadata": {},
     "output_type": "execute_result"
    }
   ],
   "source": [
    "type(a)"
   ]
  },
  {
   "cell_type": "code",
   "execution_count": 8,
   "metadata": {},
   "outputs": [
    {
     "data": {
      "text/plain": [
       "float"
      ]
     },
     "execution_count": 8,
     "metadata": {},
     "output_type": "execute_result"
    }
   ],
   "source": [
    "type(b)"
   ]
  },
  {
   "cell_type": "code",
   "execution_count": 10,
   "metadata": {},
   "outputs": [
    {
     "data": {
      "text/plain": [
       "str"
      ]
     },
     "execution_count": 10,
     "metadata": {},
     "output_type": "execute_result"
    }
   ],
   "source": [
    "my_str ='Hi'\n",
    "type(my_str)"
   ]
  },
  {
   "cell_type": "markdown",
   "metadata": {},
   "source": [
    ".  \n",
    ".  \n",
    ".  \n",
    ".  \n",
    "\n",
    "## Numeric variables and Arithmetic operations\n",
    ".  \n",
    ".  \n",
    ".  \n",
    ".  \n"
   ]
  },
  {
   "cell_type": "code",
   "execution_count": 32,
   "metadata": {},
   "outputs": [
    {
     "data": {
      "text/plain": [
       "2"
      ]
     },
     "execution_count": 32,
     "metadata": {},
     "output_type": "execute_result"
    }
   ],
   "source": [
    "a=2         #variables -> no type  (Dynamic type)\n",
    "b=-2\n",
    "c=11\n",
    "#a+b        #add\n",
    "#a-b       #subtract\n",
    "#a*b       #multiply\n",
    "#b/a       #Div\n",
    "#c/a      #\n",
    "#int(c/a) \n",
    "#b%a      #remainder\n",
    "#b**a     #power\n",
    "abs(a)"
   ]
  },
  {
   "cell_type": "markdown",
   "metadata": {},
   "source": [
    ".  \n",
    ".  \n",
    ".  \n",
    ".  \n",
    "## Comparison Operators\n",
    ".  \n",
    ".  \n",
    ".  \n",
    ".  \n"
   ]
  },
  {
   "cell_type": "code",
   "execution_count": 50,
   "metadata": {},
   "outputs": [
    {
     "data": {
      "text/plain": [
       "True"
      ]
     },
     "execution_count": 50,
     "metadata": {},
     "output_type": "execute_result"
    }
   ],
   "source": [
    "a=1         \n",
    "b=3\n",
    "#a==b\n",
    "#a!=b\n",
    "c=4\n",
    "#a>c\n",
    "#a>=c\n",
    "a<c\n",
    "#a<=c"
   ]
  },
  {
   "cell_type": "code",
   "execution_count": 40,
   "metadata": {},
   "outputs": [
    {
     "data": {
      "text/plain": [
       "93967133219392"
      ]
     },
     "execution_count": 40,
     "metadata": {},
     "output_type": "execute_result"
    }
   ],
   "source": [
    "id(b)"
   ]
  },
  {
   "cell_type": "markdown",
   "metadata": {},
   "source": [
    ".  \n",
    ".  \n",
    ".  \n",
    ".  \n",
    "\n",
    "## Logical Operators\n",
    ".  \n",
    ".  \n",
    ".  \n",
    "."
   ]
  },
  {
   "cell_type": "code",
   "execution_count": 12,
   "metadata": {},
   "outputs": [
    {
     "data": {
      "text/plain": [
       "False"
      ]
     },
     "execution_count": 12,
     "metadata": {},
     "output_type": "execute_result"
    }
   ],
   "source": [
    "num=10\n",
    "status1 = (num==10)\n",
    "status2 = (num!=10)\n",
    "#status2 and status1\n",
    "#status2 or status1\n",
    "not status1"
   ]
  },
  {
   "cell_type": "code",
   "execution_count": 19,
   "metadata": {},
   "outputs": [
    {
     "data": {
      "text/plain": [
       "True"
      ]
     },
     "execution_count": 19,
     "metadata": {},
     "output_type": "execute_result"
    }
   ],
   "source": [
    "a = True\n",
    "b = False\n",
    "c = True\n",
    "#not a\n",
    "#not b\n",
    "#a and b\n",
    "(a or b) and c"
   ]
  },
  {
   "cell_type": "markdown",
   "metadata": {},
   "source": [
    ".  \n",
    ".  \n",
    ".  \n",
    ".  \n",
    ".  \n",
    "\n",
    "## Conditions \n",
    ".  \n",
    ".  \n",
    ".  \n",
    ".  \n"
   ]
  },
  {
   "cell_type": "code",
   "execution_count": 29,
   "metadata": {},
   "outputs": [
    {
     "name": "stdout",
     "output_type": "stream",
     "text": [
      "string not matched\n"
     ]
    }
   ],
   "source": [
    "s = 'Hiw'\n",
    "if s=='Hi':\n",
    "    print(s,\" string is matched\")\n",
    "else:\n",
    "    print(\"string not matched\")\n",
    "\n",
    "#print('outside')"
   ]
  },
  {
   "cell_type": "code",
   "execution_count": 35,
   "metadata": {},
   "outputs": [
    {
     "name": "stdout",
     "output_type": "stream",
     "text": [
      "6  is Divisible by 3\n"
     ]
    }
   ],
   "source": [
    "num = 6\n",
    "if num%3==0:\n",
    "    print(num,\" is Divisible by 3\")\n",
    "    if num>8:\n",
    "        print('Number greater than 8')\n",
    "elif num%3==1:\n",
    "    print(num,\" Not Divisible by 3 as remainder is 1\")\n",
    "else:\n",
    "    print(num,\" Not Divisible by 3 as remainder is 2\")"
   ]
  },
  {
   "cell_type": "markdown",
   "metadata": {},
   "source": [
    ".  \n",
    ".  \n",
    ".  \n",
    ".  \n",
    ".  \n",
    "## For Loops\n",
    ".  \n",
    ".  \n",
    ".  \n",
    ".  \n"
   ]
  },
  {
   "cell_type": "code",
   "execution_count": 41,
   "metadata": {},
   "outputs": [
    {
     "name": "stdout",
     "output_type": "stream",
     "text": [
      "0\n",
      "1\n",
      "2\n",
      "3\n",
      "4\n",
      "5\n",
      "6\n",
      "7\n",
      "8\n",
      "9\n",
      "outside\n"
     ]
    }
   ],
   "source": [
    "for i in range(0,10):    #see range function documentation\n",
    "    print(i)\n",
    "\n",
    "print('outside')"
   ]
  },
  {
   "cell_type": "code",
   "execution_count": 43,
   "metadata": {},
   "outputs": [
    {
     "name": "stdout",
     "output_type": "stream",
     "text": [
      "0\n",
      "3\n",
      "6\n",
      "9\n"
     ]
    }
   ],
   "source": [
    "for i in range(0,10,3):    #0,2,4,6,8\n",
    "    print(i)"
   ]
  },
  {
   "cell_type": "code",
   "execution_count": 44,
   "metadata": {},
   "outputs": [
    {
     "name": "stdout",
     "output_type": "stream",
     "text": [
      "0\n",
      "2\n",
      "4\n",
      "6\n",
      "8\n"
     ]
    }
   ],
   "source": [
    "#print even numbers\n",
    "for i in range(0,10):\n",
    "    if i%2==0:\n",
    "        print(i)"
   ]
  },
  {
   "cell_type": "code",
   "execution_count": 45,
   "metadata": {},
   "outputs": [
    {
     "name": "stdout",
     "output_type": "stream",
     "text": [
      "1\n",
      "3\n",
      "5\n",
      "7\n",
      "9\n"
     ]
    }
   ],
   "source": [
    "#print odd numbers\n",
    "for i in range(0,10):\n",
    "    if i%2!=0:\n",
    "        print(i)"
   ]
  },
  {
   "cell_type": "code",
   "execution_count": 46,
   "metadata": {},
   "outputs": [
    {
     "name": "stdout",
     "output_type": "stream",
     "text": [
      "0  is even\n",
      "1  is odd\n",
      "2  is even\n",
      "3  is odd\n",
      "4  is even\n",
      "5  is odd\n",
      "6  is even\n",
      "7  is odd\n",
      "8  is even\n",
      "9  is odd\n"
     ]
    }
   ],
   "source": [
    "#print even numbers\n",
    "for i in range(0,10):\n",
    "    if i%2==0:\n",
    "        print(i,\" is even\")\n",
    "    else:\n",
    "        print(i,\" is odd\")"
   ]
  },
  {
   "cell_type": "markdown",
   "metadata": {},
   "source": [
    ".  \n",
    ".  \n",
    ".  \n",
    ".  \n",
    "\n",
    "## While Loops\n",
    ".  \n",
    ".  \n",
    ".  \n",
    ".  \n"
   ]
  },
  {
   "cell_type": "code",
   "execution_count": 48,
   "metadata": {},
   "outputs": [
    {
     "name": "stdout",
     "output_type": "stream",
     "text": [
      "0\n",
      "2\n",
      "4\n",
      "6\n",
      "8\n"
     ]
    }
   ],
   "source": [
    "i=0\n",
    "while i<10:          #how many times this statement is executed\n",
    "    print(i)\n",
    "    i+=2              #i=i+2"
   ]
  },
  {
   "cell_type": "code",
   "execution_count": 49,
   "metadata": {},
   "outputs": [
    {
     "name": "stdout",
     "output_type": "stream",
     "text": [
      "0\n",
      "3\n",
      "6\n",
      "9\n"
     ]
    }
   ],
   "source": [
    "i=0\n",
    "while i<10:         \n",
    "    print(i)\n",
    "    i+=3"
   ]
  },
  {
   "cell_type": "code",
   "execution_count": 51,
   "metadata": {},
   "outputs": [
    {
     "name": "stdout",
     "output_type": "stream",
     "text": [
      "0  is even\n",
      "1  is odd\n",
      "2  is even\n",
      "3  is odd\n",
      "4  is even\n",
      "5  is odd\n",
      "6  is even\n",
      "7  is odd\n",
      "8  is even\n",
      "9  is odd\n",
      "10  is even\n"
     ]
    }
   ],
   "source": [
    "i=0\n",
    "while i<=10:\n",
    "    if i%2==0:\n",
    "        print(i,\" is even\")\n",
    "    else:\n",
    "        print(i,\" is odd\")\n",
    "    i+=1 "
   ]
  },
  {
   "cell_type": "markdown",
   "metadata": {},
   "source": [
    ".  \n",
    ".  \n",
    ".  \n",
    ".  \n",
    "\n",
    "## Functions\n",
    ".  \n",
    ".  \n",
    ".  \n",
    ".  \n"
   ]
  },
  {
   "cell_type": "code",
   "execution_count": 55,
   "metadata": {},
   "outputs": [
    {
     "name": "stdout",
     "output_type": "stream",
     "text": [
      "5  is odd\n",
      "None\n"
     ]
    }
   ],
   "source": [
    "#check if given number is even or odd\n",
    "def EvenOdd(i):\n",
    "    if i%2==0:\n",
    "        print(i,\" is even\")\n",
    "    else:\n",
    "        print(i,\" is odd\")\n",
    "\n",
    "print(EvenOdd(5))"
   ]
  },
  {
   "cell_type": "code",
   "execution_count": 59,
   "metadata": {},
   "outputs": [
    {
     "name": "stdout",
     "output_type": "stream",
     "text": [
      "odd\n"
     ]
    }
   ],
   "source": [
    "#return even or odd\n",
    "def EvenOdd(i,j):\n",
    "    if i%2==0:\n",
    "        return(\"even\")\n",
    "    else:\n",
    "        return(\"odd\")\n",
    "\n",
    "print(EvenOdd(3,4))"
   ]
  },
  {
   "cell_type": "code",
   "execution_count": 64,
   "metadata": {},
   "outputs": [
    {
     "name": "stdout",
     "output_type": "stream",
     "text": [
      "Hi\n",
      "even\n",
      "Hi\n"
     ]
    }
   ],
   "source": [
    "#check return\n",
    "yy='Hi'\n",
    "def EvenOdd(i):\n",
    "    if i%2==0:\n",
    "        print(yy)\n",
    "        y=\"even\"\n",
    "    else:\n",
    "        y=\"odd\"\n",
    "    return y\n",
    "\n",
    "print(EvenOdd(4))\n",
    "print(y)             #scope of variable        #global variable"
   ]
  },
  {
   "cell_type": "markdown",
   "metadata": {},
   "source": []
  },
  {
   "cell_type": "markdown",
   "metadata": {},
   "source": [
    ".  \n",
    ".  \n",
    ".  \n",
    ".  \n",
    ".  \n",
    "## String Library Functions\n",
    "check documentation: \n",
    "https://docs.python.org/3/library/string.html\n",
    "* Lower/Upper\n",
    "* Concatination\n",
    "* Replication\n",
    "* Split\n",
    "* Strip (Slicing checking Substring) / Replace\n",
    "* String to Numeric\n",
    "* Format\n",
    ".  \n",
    ".  \n",
    ".  \n",
    ".  \n"
   ]
  },
  {
   "cell_type": "code",
   "execution_count": 53,
   "metadata": {},
   "outputs": [
    {
     "data": {
      "text/plain": [
       "str"
      ]
     },
     "execution_count": 53,
     "metadata": {},
     "output_type": "execute_result"
    }
   ],
   "source": [
    "sentance = 'I am Learning Python'  #PyStringObject\n",
    "sentance\n",
    "type(sentance)"
   ]
  },
  {
   "cell_type": "code",
   "execution_count": 55,
   "metadata": {},
   "outputs": [
    {
     "data": {
      "text/plain": [
       "'I AM LEARNING PYTHON'"
      ]
     },
     "execution_count": 55,
     "metadata": {},
     "output_type": "execute_result"
    }
   ],
   "source": [
    "#sentance.lower()        #strings are immutable so this function will return new string\n",
    "sentance.upper()"
   ]
  },
  {
   "cell_type": "code",
   "execution_count": 56,
   "metadata": {},
   "outputs": [
    {
     "data": {
      "text/plain": [
       "'I am Learning Python'"
      ]
     },
     "execution_count": 56,
     "metadata": {},
     "output_type": "execute_result"
    }
   ],
   "source": [
    "sentance              #orignal variable have same object"
   ]
  },
  {
   "cell_type": "code",
   "execution_count": 62,
   "metadata": {},
   "outputs": [
    {
     "data": {
      "text/plain": [
       "'3 _4'"
      ]
     },
     "execution_count": 62,
     "metadata": {},
     "output_type": "execute_result"
    }
   ],
   "source": [
    "#'My' + ' Name' + ' is'      #concatination of two strings by + symbol\n",
    "'3'+' _4'"
   ]
  },
  {
   "cell_type": "code",
   "execution_count": 67,
   "metadata": {},
   "outputs": [
    {
     "data": {
      "text/plain": [
       "'1001001001515'"
      ]
     },
     "execution_count": 67,
     "metadata": {},
     "output_type": "execute_result"
    }
   ],
   "source": [
    "#s='Name '\n",
    "#s*4        #replication func to replicate string\n",
    "#'100'*3\n",
    "'100'*3 + '15'*2"
   ]
  },
  {
   "cell_type": "markdown",
   "metadata": {},
   "source": [
    ".  \n",
    ".  \n",
    ".  \n",
    ".  \n",
    ".\n",
    "* Split, Replace, Strip\n",
    "\n",
    ".  \n",
    ".  \n",
    ".  \n",
    ". \n"
   ]
  },
  {
   "cell_type": "code",
   "execution_count": 92,
   "metadata": {},
   "outputs": [
    {
     "data": {
      "text/plain": [
       "['Munich', 'Berlin', 'Paris', 'Lahore']"
      ]
     },
     "execution_count": 92,
     "metadata": {},
     "output_type": "execute_result"
    }
   ],
   "source": [
    "#s= 'My Name is Usman'              #split function splits string and return list\n",
    "#s.split('a')                          #by default splits with whitespaces\n",
    "s= 'Munich,Berlin,Paris,Lahore'\n",
    "s.split(',')\n",
    "#s.replace('a','_')                #use replace to replace substring"
   ]
  },
  {
   "cell_type": "code",
   "execution_count": 94,
   "metadata": {},
   "outputs": [
    {
     "data": {
      "text/plain": [
       "'Mun_ch,Berl_n,Par_s,Lahore'"
      ]
     },
     "execution_count": 94,
     "metadata": {},
     "output_type": "execute_result"
    }
   ],
   "source": [
    "s= 'Munich,Berlin,Paris,Lahore'\n",
    "s.replace('i','_')                #use replace to replace substring"
   ]
  },
  {
   "cell_type": "code",
   "execution_count": 102,
   "metadata": {},
   "outputs": [
    {
     "data": {
      "text/plain": [
       "'43'"
      ]
     },
     "execution_count": 102,
     "metadata": {},
     "output_type": "execute_result"
    }
   ],
   "source": [
    "s = ' My Name \\n'\n",
    "s.strip()       #strip is used to remove charcters before and\n",
    "               #after given parameter by default it is whitespaces\n",
    "#s='***43**'\n",
    "#s.strip('*')\n",
    "s='***43**+++'\n",
    "s1 = s.strip('+')\n",
    "s1.strip('*')"
   ]
  },
  {
   "cell_type": "markdown",
   "metadata": {},
   "source": [
    ".  \n",
    ".  \n",
    ".  \n",
    ".  \n",
    ".\n",
    "* Slicing and checking Substring\n",
    "\n",
    ".  \n",
    ".  \n",
    ".  \n",
    ". \n"
   ]
  },
  {
   "cell_type": "code",
   "execution_count": 106,
   "metadata": {},
   "outputs": [
    {
     "data": {
      "text/plain": [
       "'rl'"
      ]
     },
     "execution_count": 106,
     "metadata": {},
     "output_type": "execute_result"
    }
   ],
   "source": [
    "s = 'World'                     #slicing is used to get substring using index's\n",
    "len(s)\n",
    "#s[2:4]\n",
    "#s[3:8]\n",
    "s[-3:-1]"
   ]
  },
  {
   "cell_type": "code",
   "execution_count": 110,
   "metadata": {},
   "outputs": [
    {
     "data": {
      "text/plain": [
       "-1"
      ]
     },
     "execution_count": 110,
     "metadata": {},
     "output_type": "execute_result"
    }
   ],
   "source": [
    "s = 'World'                     #test if string contains substring\n",
    "#'WO' in s\n",
    "#'Wo' in s\n",
    "#s.find('rld')                  #find gives starting index\n",
    "s.find('Ld')                  #if no substring then it returns -1"
   ]
  },
  {
   "cell_type": "markdown",
   "metadata": {},
   "source": [
    ".  \n",
    ".  \n",
    ".  \n",
    ".  \n",
    ".\n",
    "* String to Numeric\n",
    "* Format  \n",
    "\n",
    ".  \n",
    ".  \n",
    ".  \n",
    ". \n"
   ]
  },
  {
   "cell_type": "code",
   "execution_count": 113,
   "metadata": {},
   "outputs": [
    {
     "ename": "ValueError",
     "evalue": "invalid literal for int() with base 10: 'Hello'",
     "output_type": "error",
     "traceback": [
      "\u001b[0;31m---------------------------------------------------------------------------\u001b[0m",
      "\u001b[0;31mValueError\u001b[0m                                Traceback (most recent call last)",
      "\u001b[0;32m<ipython-input-113-b24fac28f9e4>\u001b[0m in \u001b[0;36m<module>\u001b[0;34m()\u001b[0m\n\u001b[1;32m      3\u001b[0m \u001b[0;31m#float(s)\u001b[0m\u001b[0;34m\u001b[0m\u001b[0;34m\u001b[0m\u001b[0m\n\u001b[1;32m      4\u001b[0m \u001b[0ms\u001b[0m\u001b[0;34m=\u001b[0m\u001b[0;34m'Hello'\u001b[0m\u001b[0;34m\u001b[0m\u001b[0m\n\u001b[0;32m----> 5\u001b[0;31m \u001b[0mint\u001b[0m\u001b[0;34m(\u001b[0m\u001b[0ms\u001b[0m\u001b[0;34m)\u001b[0m\u001b[0;34m\u001b[0m\u001b[0m\n\u001b[0m",
      "\u001b[0;31mValueError\u001b[0m: invalid literal for int() with base 10: 'Hello'"
     ]
    }
   ],
   "source": [
    "s='15'           #string to numeric conversion\n",
    "#int(s)\n",
    "#float(s)\n",
    "s='Hello'\n",
    "int(s)"
   ]
  },
  {
   "cell_type": "code",
   "execution_count": 116,
   "metadata": {},
   "outputs": [
    {
     "data": {
      "text/plain": [
       "'I am Analyst Data'"
      ]
     },
     "execution_count": 116,
     "metadata": {},
     "output_type": "execute_result"
    }
   ],
   "source": [
    "#sen = 'I am {} {}'           #format is used to format string with given variables -> {} \n",
    "                                #these brackets are place holders\n",
    "sen.format('Data','Analyst')\n",
    "sen = 'I am {1} {0}'            #specifiy position in place holders\n",
    "sen.format('Data','Analyst')"
   ]
  },
  {
   "cell_type": "markdown",
   "metadata": {},
   "source": [
    ".  \n",
    ".  \n",
    ".  \n",
    ".  \n",
    ".  \n",
    "\n",
    "## List Datastructure in Python\n",
    "* List Basics (mutable/resizable)\n",
    "* Slicing\n",
    "* Common Functions"
   ]
  },
  {
   "cell_type": "code",
   "execution_count": 102,
   "metadata": {},
   "outputs": [
    {
     "name": "stdout",
     "output_type": "stream",
     "text": [
      "15_10_40_30\n"
     ]
    },
    {
     "data": {
      "text/plain": [
       "['15', '10', '40', '30']"
      ]
     },
     "execution_count": 102,
     "metadata": {},
     "output_type": "execute_result"
    }
   ],
   "source": [
    "x = ['15','10','40','30']         #define list\n",
    "#x[-3]                    #slicing \n",
    "#x[2:]\n",
    "#x[4]\n",
    "#len(x)\n",
    "#x[2]=100            #value can be changed\n",
    "#x.insert(2,130)     #use insert function\n",
    "#x.append('200')    #list can be appended\n",
    "#x.pop(2)           #delete 3rd entry\n",
    "#x.remove('10')     #delete by entry value\n",
    "s = '_'.join(x)  #to get as string\n",
    "print(s)\n",
    "x"
   ]
  },
  {
   "cell_type": "code",
   "execution_count": 111,
   "metadata": {},
   "outputs": [
    {
     "data": {
      "text/plain": [
       "'40'"
      ]
     },
     "execution_count": 111,
     "metadata": {},
     "output_type": "execute_result"
    }
   ],
   "source": [
    "x = ['15','10','40','30']         #define list\n",
    "\n",
    "#x.sort()\n",
    "#x.sort(reverse=True)           #sort descending order\n",
    "#x1 = sorted(x,reverse=True)\n",
    "#x1\n",
    "#min(x)\n",
    "max(x)\n",
    "#x"
   ]
  },
  {
   "cell_type": "code",
   "execution_count": 115,
   "metadata": {},
   "outputs": [
    {
     "name": "stdout",
     "output_type": "stream",
     "text": [
      "Mango , 10\n",
      "Apple , 2\n",
      "Banana , 1\n",
      "Grapes , 3\n"
     ]
    }
   ],
   "source": [
    "list1=[1,'a',22,'b']    #can hold different data types\n",
    "list2=[10,20,'abc']\n",
    "#list1.extend(list2)     #add two lists\n",
    "#list1.append(list2)     #append creates nested lists\n",
    "#list1\n",
    "\n",
    "\n",
    "Name=['Mango','Apple','Banana','Grapes']                            \n",
    "Rate=[10,2,1,3]\n",
    "for x,y in zip(Name,Rate):   #two seq list paring through zip\n",
    "    print(x,',',y)"
   ]
  },
  {
   "cell_type": "markdown",
   "metadata": {},
   "source": [
    ".  \n",
    ".  \n",
    ".  \n",
    ".  \n",
    ".  \n",
    "\n",
    "## List Datastructure in Python\n",
    "* For Loop (Iteration on list)\n"
   ]
  },
  {
   "cell_type": "code",
   "execution_count": 116,
   "metadata": {},
   "outputs": [
    {
     "name": "stdout",
     "output_type": "stream",
     "text": [
      "15\n",
      "10\n",
      "40\n",
      "30\n"
     ]
    }
   ],
   "source": [
    "x = ['15','10','40','30'] \n",
    "for i in x:          #iterate over list\n",
    "    print(i)"
   ]
  },
  {
   "cell_type": "code",
   "execution_count": 117,
   "metadata": {},
   "outputs": [
    {
     "name": "stdout",
     "output_type": "stream",
     "text": [
      "Place  0 contains  15\n",
      "Place  1 contains  10\n",
      "Place  2 contains  40\n",
      "Place  3 contains  30\n"
     ]
    }
   ],
   "source": [
    "for i in range(0,len(x)):\n",
    "    print('Place ',i ,'contains ' ,x[i])"
   ]
  },
  {
   "cell_type": "code",
   "execution_count": 118,
   "metadata": {},
   "outputs": [
    {
     "name": "stdout",
     "output_type": "stream",
     "text": [
      "Place  0 contains  15\n",
      "Place  1 contains  10\n",
      "Place  2 contains  40\n",
      "Place  3 contains  30\n"
     ]
    }
   ],
   "source": [
    "for index,val in enumerate(x):\n",
    "    print('Place ',index ,'contains ' ,val)"
   ]
  },
  {
   "cell_type": "code",
   "execution_count": 123,
   "metadata": {},
   "outputs": [
    {
     "data": {
      "text/plain": [
       "[1, 2, 1, 1, 2, 1, 1, 1, 1, 2]"
      ]
     },
     "execution_count": 123,
     "metadata": {},
     "output_type": "execute_result"
    }
   ],
   "source": [
    "#lis = [i**3 for i in range(0,6)]    #list of cubes by comprehension \n",
    "#lis = [i for i in range(0,10,2)]    #list of cubes by comprehension\n",
    "\n",
    "import random\n",
    "lis =[random.randint(0,2) for i in range(0,10)]   #list of 10 random integers from 0 -> 5\n",
    "lis"
   ]
  },
  {
   "cell_type": "markdown",
   "metadata": {},
   "source": [
    ".  \n",
    ".  \n",
    ".  \n",
    ".  \n",
    ".  \n",
    "\n",
    "## Tupples in Python\n",
    "* Immutable\n",
    "* Slicing\n",
    ".  \n",
    ".  \n",
    ".  \n",
    ".  \n"
   ]
  },
  {
   "cell_type": "code",
   "execution_count": 132,
   "metadata": {},
   "outputs": [
    {
     "data": {
      "text/plain": [
       "True"
      ]
     },
     "execution_count": 132,
     "metadata": {},
     "output_type": "execute_result"
    }
   ],
   "source": [
    "tuple1 =('Mango','Pakistan',5,2018)  #very useful in parallel \n",
    "tuple1                    #computing where object should not change\n",
    "#tuple1[2]\n",
    "#tuple1[1:3]\n",
    "#len(tuple1)\n",
    "#tuple1[1]='Spain'\n",
    "'Mango' in tuple1                         "
   ]
  },
  {
   "cell_type": "code",
   "execution_count": 133,
   "metadata": {},
   "outputs": [
    {
     "name": "stdout",
     "output_type": "stream",
     "text": [
      "Mango\n",
      "Pakistan\n",
      "5\n",
      "2018\n"
     ]
    }
   ],
   "source": [
    "for i in tuple1:\n",
    "    print(i)"
   ]
  },
  {
   "cell_type": "code",
   "execution_count": 134,
   "metadata": {},
   "outputs": [
    {
     "name": "stdout",
     "output_type": "stream",
     "text": [
      "Place  0 contains  Mango\n",
      "Place  1 contains  Pakistan\n",
      "Place  2 contains  5\n",
      "Place  3 contains  2018\n"
     ]
    }
   ],
   "source": [
    "for index,val in enumerate(tuple1):\n",
    "    print('Place ',index ,'contains ' ,val)"
   ]
  },
  {
   "cell_type": "markdown",
   "metadata": {},
   "source": [
    ".  \n",
    ".  \n",
    ".  \n",
    ".  \n",
    ".  \n",
    "## Dictionaries in Python  \n",
    ".  \n",
    ".  \n",
    ".  \n",
    ".  \n",
    ".  "
   ]
  },
  {
   "cell_type": "code",
   "execution_count": 146,
   "metadata": {},
   "outputs": [
    {
     "ename": "SyntaxError",
     "evalue": "invalid syntax (<ipython-input-146-a5a448f6c556>, line 11)",
     "output_type": "error",
     "traceback": [
      "\u001b[0;36m  File \u001b[0;32m\"<ipython-input-146-a5a448f6c556>\"\u001b[0;36m, line \u001b[0;32m11\u001b[0m\n\u001b[0;31m    st = del dict1['Peach']\u001b[0m\n\u001b[0m           ^\u001b[0m\n\u001b[0;31mSyntaxError\u001b[0m\u001b[0;31m:\u001b[0m invalid syntax\n"
     ]
    }
   ],
   "source": [
    "dict1 = {'Mango':5,           #key and value pair\n",
    "        'Apple':2,\n",
    "        'Peach':3}\n",
    "#dict1\n",
    "#dict1['Mango']\n",
    "#dict1['Apple']\n",
    "#len(dict1)\n",
    "#dict1['Grapes']=4\n",
    "#dict1\n",
    "#st = dict1.pop('Peach')\n",
    "#st = del dict1['Peach']\n",
    "#print(st)\n",
    "print(dict1)"
   ]
  },
  {
   "cell_type": "code",
   "execution_count": 152,
   "metadata": {},
   "outputs": [
    {
     "data": {
      "text/plain": [
       "True"
      ]
     },
     "execution_count": 152,
     "metadata": {},
     "output_type": "execute_result"
    }
   ],
   "source": [
    "dict1 = {('Mango',2016):5,         #keys could be tuple\n",
    "        ('Mango',2017):6}\n",
    "dict1\n",
    "#dict1[('Mango',2016)]\n",
    "#dict1[('Mango',2018)]           #No key error\n",
    "#dict1.get(('Mango',2018))       #will not give error and return None if key is missing\n",
    "('Mango',2017) in dict1          #use 'in' to check if key exists"
   ]
  },
  {
   "cell_type": "code",
   "execution_count": 153,
   "metadata": {},
   "outputs": [
    {
     "name": "stdout",
     "output_type": "stream",
     "text": [
      "('Mango', 2016)\n",
      "('Mango', 2017)\n"
     ]
    }
   ],
   "source": [
    "for i in dict1:\n",
    "    print(i)"
   ]
  },
  {
   "cell_type": "code",
   "execution_count": 154,
   "metadata": {},
   "outputs": [
    {
     "name": "stdout",
     "output_type": "stream",
     "text": [
      "('Mango', 2016)  :  5\n",
      "('Mango', 2017)  :  6\n"
     ]
    }
   ],
   "source": [
    "for key,val in dict1.items():\n",
    "    print(key,' : ',val)"
   ]
  },
  {
   "cell_type": "code",
   "execution_count": 156,
   "metadata": {},
   "outputs": [
    {
     "data": {
      "text/plain": [
       "{65: 'A',\n",
       " 66: 'B',\n",
       " 67: 'C',\n",
       " 68: 'D',\n",
       " 69: 'E',\n",
       " 70: 'F',\n",
       " 71: 'G',\n",
       " 72: 'H',\n",
       " 73: 'I',\n",
       " 74: 'J',\n",
       " 75: 'K',\n",
       " 76: 'L',\n",
       " 77: 'M',\n",
       " 78: 'N',\n",
       " 79: 'O',\n",
       " 80: 'P',\n",
       " 81: 'Q',\n",
       " 82: 'R',\n",
       " 83: 'S',\n",
       " 84: 'T',\n",
       " 85: 'U',\n",
       " 86: 'V',\n",
       " 87: 'W',\n",
       " 88: 'X',\n",
       " 89: 'Y'}"
      ]
     },
     "execution_count": 156,
     "metadata": {},
     "output_type": "execute_result"
    }
   ],
   "source": [
    "#dict1 = {i:i**2 for i in range(1,10)}     #create dict of square of numbers 1 -> 9\n",
    "dict1 = {i:chr(i) for i in range(65,90)}     #create dict of integer values wrt chr\n",
    "dict1"
   ]
  },
  {
   "cell_type": "markdown",
   "metadata": {},
   "source": [
    ".  \n",
    ".  \n",
    ".  \n",
    ".  \n",
    ".  \n",
    "\n",
    "## Sets in Python\n",
    "* Unorder\n",
    "* Hold Unique Values \n",
    "* Union, Intersection ...etc  \n",
    ".  \n",
    ".  \n",
    ".  \n",
    ".  \n"
   ]
  },
  {
   "cell_type": "code",
   "execution_count": 164,
   "metadata": {},
   "outputs": [
    {
     "ename": "KeyError",
     "evalue": "'Peach'",
     "output_type": "error",
     "traceback": [
      "\u001b[0;31m---------------------------------------------------------------------------\u001b[0m",
      "\u001b[0;31mKeyError\u001b[0m                                  Traceback (most recent call last)",
      "\u001b[0;32m<ipython-input-164-686add68d4e8>\u001b[0m in \u001b[0;36m<module>\u001b[0;34m()\u001b[0m\n\u001b[1;32m      3\u001b[0m \u001b[0;31m#my_set.add('Mango')                                 #Nothing will happen as it is already there\u001b[0m\u001b[0;34m\u001b[0m\u001b[0;34m\u001b[0m\u001b[0m\n\u001b[1;32m      4\u001b[0m \u001b[0;31m#my_set.discard('Peach')                             #Discard item if it is not there nothing will happen (try remove)\u001b[0m\u001b[0;34m\u001b[0m\u001b[0;34m\u001b[0m\u001b[0m\n\u001b[0;32m----> 5\u001b[0;31m \u001b[0mmy_set\u001b[0m\u001b[0;34m.\u001b[0m\u001b[0mremove\u001b[0m\u001b[0;34m(\u001b[0m\u001b[0;34m'Peach'\u001b[0m\u001b[0;34m)\u001b[0m\u001b[0;34m\u001b[0m\u001b[0m\n\u001b[0m\u001b[1;32m      6\u001b[0m \u001b[0;31m#my_set = {'Apple', 'Banana', 'Grapes', 'Mango'}\u001b[0m\u001b[0;34m\u001b[0m\u001b[0;34m\u001b[0m\u001b[0m\n\u001b[1;32m      7\u001b[0m \u001b[0mmy_set\u001b[0m\u001b[0;34m\u001b[0m\u001b[0m\n",
      "\u001b[0;31mKeyError\u001b[0m: 'Peach'"
     ]
    }
   ],
   "source": [
    "my_set = set(['Mango','Apple','Banana','Grapes'])     #give list to set function\n",
    "#my_set.add('Gava')\n",
    "#my_set.add('Mango')                                 #Nothing will happen as it is already there\n",
    "#my_set.discard('Peach')                             #Discard item if it is not there nothing will happen (try remove)\n",
    "#my_set.remove('Peach')\n",
    "#my_set = {'Apple', 'Banana', 'Grapes', 'Mango'}\n",
    "my_set\n"
   ]
  },
  {
   "cell_type": "code",
   "execution_count": 169,
   "metadata": {},
   "outputs": [
    {
     "data": {
      "text/plain": [
       "{'Apple', 'Banana'}"
      ]
     },
     "execution_count": 169,
     "metadata": {},
     "output_type": "execute_result"
    }
   ],
   "source": [
    "my_set = set(['Mango','Apple','Banana','Grapes'])   \n",
    "your_set = set(['Banana','Melon','Apple','Gava'])\n",
    "#get_union = my_set.union(your_set)\n",
    "#get_union\n",
    "#get_common = my_set.intersection(your_set)\n",
    "#get_common\n",
    "#dif = my_set.difference(your_set)\n",
    "#dif\n",
    "#my_set | your_set\n",
    "my_set & your_set"
   ]
  },
  {
   "cell_type": "markdown",
   "metadata": {},
   "source": [
    ".  \n",
    ".  \n",
    ".  \n",
    ".  \n",
    ".  \n",
    ".  \n",
    ".  \n",
    ".  \n",
    ".  \n",
    "\n",
    "# Useful link\n",
    "For debugging:\n",
    "http://pythontutor.com/visualize.html#mode=edit    "
   ]
  },
  {
   "cell_type": "code",
   "execution_count": null,
   "metadata": {},
   "outputs": [],
   "source": []
  }
 ],
 "metadata": {
  "kernelspec": {
   "display_name": "Python 3",
   "language": "python",
   "name": "python3"
  },
  "language_info": {
   "codemirror_mode": {
    "name": "ipython",
    "version": 3
   },
   "file_extension": ".py",
   "mimetype": "text/x-python",
   "name": "python",
   "nbconvert_exporter": "python",
   "pygments_lexer": "ipython3",
   "version": "3.6.5"
  }
 },
 "nbformat": 4,
 "nbformat_minor": 2
}
